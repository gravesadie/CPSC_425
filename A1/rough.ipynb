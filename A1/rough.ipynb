{
 "cells": [
  {
   "cell_type": "code",
   "execution_count": 19,
   "id": "ce41387d",
   "metadata": {},
   "outputs": [
    {
     "name": "stdout",
     "output_type": "stream",
     "text": [
      "[[2 0 5 0 3]\n",
      " [0 1 0 3 2]\n",
      " [4 0 0 1 2]\n",
      " [1 0 3 0 1]]\n",
      "[[ 0  0  1]\n",
      " [ 0  0  0]\n",
      " [-1  0  0]]\n"
     ]
    }
   ],
   "source": [
    "from scipy.signal import correlate, convolve\n",
    "import numpy as np\n",
    "a=np.array([[2,0,5,0,3],[0,1,0,3,2],[4,0,0,1,2],[1,0,3,0,1]])\n",
    "filt=np.array([[0,0,1],[0,0,0],[-1,0,0]])\n",
    "print(a)\n",
    "print(filt)\n"
   ]
  },
  {
   "cell_type": "code",
   "execution_count": 20,
   "id": "1198897b",
   "metadata": {},
   "outputs": [
    {
     "name": "stdout",
     "output_type": "stream",
     "text": [
      "[[ 1  0  3]\n",
      " [-1  3 -1]]\n",
      "[[-1  0 -3]\n",
      " [ 1 -3  1]]\n"
     ]
    }
   ],
   "source": [
    "print(correlate(in1=a,in2=filt,mode='valid'))\n",
    "print(convolve(a,filt ,mode='valid'))\n"
   ]
  },
  {
   "cell_type": "code",
   "execution_count": 23,
   "id": "f9135941",
   "metadata": {},
   "outputs": [
    {
     "name": "stdout",
     "output_type": "stream",
     "text": [
      "[[0.33333333 0.88888889 1.         1.44444444 0.88888889]\n",
      " [0.77777778 1.33333333 1.11111111 1.77777778 1.22222222]\n",
      " [0.66666667 1.         0.88888889 1.33333333 1.        ]\n",
      " [0.55555556 0.88888889 0.44444444 0.77777778 0.44444444]]\n"
     ]
    }
   ],
   "source": [
    "filt=np.array([[1/9,1/9,1/9],[1/9,1/9,1/9],[1/9,1/9,1/9]])\n",
    "print(convolve(a,filt,'same'))\n"
   ]
  }
 ],
 "metadata": {
  "kernelspec": {
   "display_name": ".venv",
   "language": "python",
   "name": "python3"
  },
  "language_info": {
   "codemirror_mode": {
    "name": "ipython",
    "version": 3
   },
   "file_extension": ".py",
   "mimetype": "text/x-python",
   "name": "python",
   "nbconvert_exporter": "python",
   "pygments_lexer": "ipython3",
   "version": "3.13.7"
  }
 },
 "nbformat": 4,
 "nbformat_minor": 5
}
