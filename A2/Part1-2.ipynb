{
 "cells": [
  {
   "cell_type": "code",
   "execution_count": 1,
   "id": "ac732eb8",
   "metadata": {},
   "outputs": [],
   "source": [
    "import math\n",
    "import numpy as np\n",
    "from scipy import signal\n",
    "from PIL import Image, ImageDraw\n",
    "from scipy.ndimage import gaussian_filter\n",
    "import os"
   ]
  },
  {
   "cell_type": "markdown",
   "id": "0024239e",
   "metadata": {},
   "source": [
    "### Part 1"
   ]
  },
  {
   "cell_type": "markdown",
   "id": "4950c774",
   "metadata": {},
   "source": [
    "Question 1-2"
   ]
  },
  {
   "cell_type": "code",
   "execution_count": 2,
   "id": "aad6faa1",
   "metadata": {},
   "outputs": [],
   "source": [
    "import ncc"
   ]
  },
  {
   "cell_type": "code",
   "execution_count": 3,
   "id": "acf5c774",
   "metadata": {},
   "outputs": [],
   "source": [
    "\n",
    "def MakeGaussianPyramind(image, scale, minsize):\n",
    "    '''\n",
    "    purpose: creates a pyramid for an image\n",
    "    inputs: image - jpg, scale - factor by which to reduce image size, minsize - min dimension of reduced image\n",
    "    outputs: list of [original_image, PIL images of reduced size]\n",
    "    '''\n",
    "    # generate appropriate sigma\n",
    "    sigma=1/(2*scale)\n",
    "    # open image\n",
    "    im = Image.open(image)\n",
    "    pyr = []\n",
    "    # set while loop with min dim as stop condition\n",
    "    x, y = im.height, im.width\n",
    "    min_dim = np.max([x, y])\n",
    "    while int(min_dim*0.75) > minsize: # check condition\n",
    "        if len(im.size) < 3: # if grayscale, do not split channels for separate filtering\n",
    "            im2 = Image.fromarray(gaussian_filter(im, sigma))\n",
    "            # resize image\n",
    "            imnew = im2.resize((int(x*scale), int(y*scale)), Image.BICUBIC)\n",
    "            # convert back to np array\n",
    "            resized = np.float32(imnew)\n",
    "        else:\n",
    "            r, g, b = im.split() # if multi-channel, split channels and filter before reassmbeling\n",
    "            r, g, b = Image.fromarray(gaussian_filter(r, sigma)), Image.fromarray(gaussian_filter(g, sigma)), Image.fromarray(gaussian_filter(b, sigma))\n",
    "            im2 = Image.merge(r,g,b)\n",
    "            # resize image\n",
    "            imnew = im2.resize((int(x*scale), int(y*scale)), Image.BICUBIC)\n",
    "            # convert back to numpy arrays \n",
    "            r, b, g = imnew.split()\n",
    "            resized = np.array([np.float32(r), np.float32(b), np.float32(g)])\n",
    "        pyr.append(resized)\n",
    "        # update min_dim\n",
    "        x, y = imnew.height, imnew.width\n",
    "        min_dim = np.max([x, y])\n",
    "    return pyr\n",
    "        "
   ]
  },
  {
   "cell_type": "code",
   "execution_count": 5,
   "id": "ff85f429",
   "metadata": {},
   "outputs": [
    {
     "name": "stdout",
     "output_type": "stream",
     "text": [
      "c:\\Users\\Sadie\\Documents\\GitHub\\CPSC_425\\A2\n",
      "done\n"
     ]
    }
   ],
   "source": [
    "print(os.getcwd())\n",
    "filepath=r\"hw2part2\\faces\\judybats.jpg\"\n",
    "pyr = MakeGaussianPyramind(image=filepath, scale=0.75, minsize=100)\n",
    "print('done')"
   ]
  },
  {
   "cell_type": "markdown",
   "id": "6f8e97e8",
   "metadata": {},
   "source": [
    "Question 3"
   ]
  },
  {
   "cell_type": "code",
   "execution_count": 8,
   "id": "c09674a6",
   "metadata": {},
   "outputs": [],
   "source": [
    "def ShowGaussianPyramid(pyr):\n",
    "    '''\n",
    "    purpose: display Gaussian pyramid\n",
    "    inputs: list of np arrays\n",
    "    outputs: None (display all images in pyramid side by side)\n",
    "    '''\n",
    "    heights = list(map(lambda x: x.shape[0], pyr)) # get dims of all imgs in list to know dims needed for template image\n",
    "    widths = list(map(lambda x: x.shape[1], pyr))\n",
    "    w_tot, h_tot = np.sum(widths), np.sum(heights)\n",
    "    image = Image.new(mode=\"L\", size=(w_tot, h_tot), color=1)\n",
    "    offset_x, offset_y = 0, 0\n",
    "    for im in pyr:\n",
    "        image.paste(im,(offset_x, offset_y))\n",
    "        offset_x, offset_y = im.height, im.width\n",
    "    display(image)"
   ]
  },
  {
   "cell_type": "code",
   "execution_count": 7,
   "id": "dc39de3c",
   "metadata": {},
   "outputs": [
    {
     "ename": "AttributeError",
     "evalue": "'numpy.ndarray' object has no attribute 'height'",
     "output_type": "error",
     "traceback": [
      "\u001b[31m---------------------------------------------------------------------------\u001b[39m",
      "\u001b[31mAttributeError\u001b[39m                            Traceback (most recent call last)",
      "\u001b[36mCell\u001b[39m\u001b[36m \u001b[39m\u001b[32mIn[7]\u001b[39m\u001b[32m, line 1\u001b[39m\n\u001b[32m----> \u001b[39m\u001b[32m1\u001b[39m \u001b[43mShowGaussianPyramid\u001b[49m\u001b[43m(\u001b[49m\u001b[43mpyr\u001b[49m\u001b[43m)\u001b[49m\n",
      "\u001b[36mCell\u001b[39m\u001b[36m \u001b[39m\u001b[32mIn[6]\u001b[39m\u001b[32m, line 7\u001b[39m, in \u001b[36mShowGaussianPyramid\u001b[39m\u001b[34m(pyr)\u001b[39m\n\u001b[32m      1\u001b[39m \u001b[38;5;28;01mdef\u001b[39;00m\u001b[38;5;250m \u001b[39m\u001b[34mShowGaussianPyramid\u001b[39m(pyr):\n\u001b[32m      2\u001b[39m \u001b[38;5;250m    \u001b[39m\u001b[33;03m'''\u001b[39;00m\n\u001b[32m      3\u001b[39m \u001b[33;03m    purpose: display Gaussian pyramid\u001b[39;00m\n\u001b[32m      4\u001b[39m \u001b[33;03m    inputs: list of np arrays\u001b[39;00m\n\u001b[32m      5\u001b[39m \u001b[33;03m    outputs: None (display all images in pyramid side by side)\u001b[39;00m\n\u001b[32m      6\u001b[39m \u001b[33;03m    '''\u001b[39;00m\n\u001b[32m----> \u001b[39m\u001b[32m7\u001b[39m     heights = \u001b[38;5;28;43mlist\u001b[39;49m\u001b[43m(\u001b[49m\u001b[38;5;28;43mmap\u001b[39;49m\u001b[43m(\u001b[49m\u001b[38;5;28;43;01mlambda\u001b[39;49;00m\u001b[43m \u001b[49m\u001b[43mx\u001b[49m\u001b[43m:\u001b[49m\u001b[43m \u001b[49m\u001b[43mx\u001b[49m\u001b[43m.\u001b[49m\u001b[43mheight\u001b[49m\u001b[43m,\u001b[49m\u001b[43m \u001b[49m\u001b[43mpyr\u001b[49m\u001b[43m)\u001b[49m\u001b[43m)\u001b[49m \u001b[38;5;66;03m# get dims of all imgs in list to know dims needed for template image\u001b[39;00m\n\u001b[32m      8\u001b[39m     widths = \u001b[38;5;28mlist\u001b[39m(\u001b[38;5;28mmap\u001b[39m(\u001b[38;5;28;01mlambda\u001b[39;00m x: x.width, pyr))\n\u001b[32m      9\u001b[39m     w_tot, h_tot = np.sum(widths), np.sum(heights)\n",
      "\u001b[36mCell\u001b[39m\u001b[36m \u001b[39m\u001b[32mIn[6]\u001b[39m\u001b[32m, line 7\u001b[39m, in \u001b[36mShowGaussianPyramid.<locals>.<lambda>\u001b[39m\u001b[34m(x)\u001b[39m\n\u001b[32m      1\u001b[39m \u001b[38;5;28;01mdef\u001b[39;00m\u001b[38;5;250m \u001b[39m\u001b[34mShowGaussianPyramid\u001b[39m(pyr):\n\u001b[32m      2\u001b[39m \u001b[38;5;250m    \u001b[39m\u001b[33;03m'''\u001b[39;00m\n\u001b[32m      3\u001b[39m \u001b[33;03m    purpose: display Gaussian pyramid\u001b[39;00m\n\u001b[32m      4\u001b[39m \u001b[33;03m    inputs: list of np arrays\u001b[39;00m\n\u001b[32m      5\u001b[39m \u001b[33;03m    outputs: None (display all images in pyramid side by side)\u001b[39;00m\n\u001b[32m      6\u001b[39m \u001b[33;03m    '''\u001b[39;00m\n\u001b[32m----> \u001b[39m\u001b[32m7\u001b[39m     heights = \u001b[38;5;28mlist\u001b[39m(\u001b[38;5;28mmap\u001b[39m(\u001b[38;5;28;01mlambda\u001b[39;00m x: \u001b[43mx\u001b[49m\u001b[43m.\u001b[49m\u001b[43mheight\u001b[49m, pyr)) \u001b[38;5;66;03m# get dims of all imgs in list to know dims needed for template image\u001b[39;00m\n\u001b[32m      8\u001b[39m     widths = \u001b[38;5;28mlist\u001b[39m(\u001b[38;5;28mmap\u001b[39m(\u001b[38;5;28;01mlambda\u001b[39;00m x: x.width, pyr))\n\u001b[32m      9\u001b[39m     w_tot, h_tot = np.sum(widths), np.sum(heights)\n",
      "\u001b[31mAttributeError\u001b[39m: 'numpy.ndarray' object has no attribute 'height'"
     ]
    }
   ],
   "source": [
    "ShowGaussianPyramid(pyr)"
   ]
  },
  {
   "cell_type": "markdown",
   "id": "c41bf315",
   "metadata": {},
   "source": [
    "Question 4"
   ]
  },
  {
   "cell_type": "code",
   "execution_count": null,
   "id": "5d0a4533",
   "metadata": {},
   "outputs": [],
   "source": [
    "def FindTemplate(pyramid, template, threshold):\n",
    "    '''\n",
    "    purpose: \n",
    "    inputs: \n",
    "    outputs: \n",
    "    '''\n",
    "    for im in pyramid:\n",
    "        res = ncc.normxcorr2D(im, template)\n",
    "        if res > threshold:\n",
    "            "
   ]
  }
 ],
 "metadata": {
  "kernelspec": {
   "display_name": ".venv",
   "language": "python",
   "name": "python3"
  },
  "language_info": {
   "codemirror_mode": {
    "name": "ipython",
    "version": 3
   },
   "file_extension": ".py",
   "mimetype": "text/x-python",
   "name": "python",
   "nbconvert_exporter": "python",
   "pygments_lexer": "ipython3",
   "version": "3.13.7"
  }
 },
 "nbformat": 4,
 "nbformat_minor": 5
}
